{
 "cells": [
  {
   "cell_type": "markdown",
   "metadata": {},
   "source": [
    "\n",
    "\n",
    "## BERT"
   ]
  },
  {
   "cell_type": "code",
   "metadata": {
    "ExecuteTime": {
     "end_time": "2024-11-24T04:48:38.773531Z",
     "start_time": "2024-11-24T04:48:31.557964Z"
    }
   },
   "source": [
    "# import transformers\n",
    "from transformers import AutoModelForSequenceClassification,AutoTokenizer\n",
    "import numpy as np # linear algebra\n",
    "import pandas as pd # data processing, CSV file I/O (e.g. pd.read_csv)\n",
    "import torch"
   ],
   "outputs": [
    {
     "name": "stderr",
     "output_type": "stream",
     "text": [
      "D:\\资料\\学习产生的资料\\数据科学导引\\DataScience\\.venv\\Lib\\site-packages\\tqdm\\auto.py:21: TqdmWarning: IProgress not found. Please update jupyter and ipywidgets. See https://ipywidgets.readthedocs.io/en/stable/user_install.html\n",
      "  from .autonotebook import tqdm as notebook_tqdm\n"
     ]
    },
    {
     "ename": "ModuleNotFoundError",
     "evalue": "No module named 'repo'",
     "output_type": "error",
     "traceback": [
      "\u001B[1;31m---------------------------------------------------------------------------\u001B[0m",
      "\u001B[1;31mModuleNotFoundError\u001B[0m                       Traceback (most recent call last)",
      "Cell \u001B[1;32mIn[1], line 4\u001B[0m\n\u001B[0;32m      2\u001B[0m \u001B[38;5;28;01mfrom\u001B[39;00m \u001B[38;5;21;01mtransformers\u001B[39;00m \u001B[38;5;28;01mimport\u001B[39;00m PreTrainedModel, PreTrainedTokenizer, PretrainedConfig\n\u001B[0;32m      3\u001B[0m \u001B[38;5;28;01mfrom\u001B[39;00m \u001B[38;5;21;01mtransformers\u001B[39;00m \u001B[38;5;28;01mimport\u001B[39;00m BertForSequenceClassification, BertTokenizer, BertConfig\n\u001B[1;32m----> 4\u001B[0m \u001B[38;5;28;01mimport\u001B[39;00m \u001B[38;5;21;01mrepo\u001B[39;00m\n",
      "\u001B[1;31mModuleNotFoundError\u001B[0m: No module named 'repo'"
     ]
    }
   ],
   "execution_count": 1
  },
  {
   "cell_type": "markdown",
   "metadata": {},
   "source": ""
  },
  {
   "cell_type": "code",
   "execution_count": 5,
   "metadata": {},
   "outputs": [
    {
     "name": "stdout",
     "output_type": "stream",
     "text": [
      "(156060, 4) (66292, 3)\n"
     ]
    },
    {
     "data": {
      "text/html": [
       "<div>\n",
       "<style scoped>\n",
       "    .dataframe tbody tr th:only-of-type {\n",
       "        vertical-align: middle;\n",
       "    }\n",
       "\n",
       "    .dataframe tbody tr th {\n",
       "        vertical-align: top;\n",
       "    }\n",
       "\n",
       "    .dataframe thead th {\n",
       "        text-align: right;\n",
       "    }\n",
       "</style>\n",
       "<table border=\"1\" class=\"dataframe\">\n",
       "  <thead>\n",
       "    <tr style=\"text-align: right;\">\n",
       "      <th></th>\n",
       "      <th>PhraseId</th>\n",
       "      <th>SentenceId</th>\n",
       "      <th>Phrase</th>\n",
       "      <th>Sentiment</th>\n",
       "    </tr>\n",
       "  </thead>\n",
       "  <tbody>\n",
       "    <tr>\n",
       "      <th>0</th>\n",
       "      <td>1</td>\n",
       "      <td>1</td>\n",
       "      <td>A series of escapades demonstrating the adage ...</td>\n",
       "      <td>1</td>\n",
       "    </tr>\n",
       "    <tr>\n",
       "      <th>1</th>\n",
       "      <td>2</td>\n",
       "      <td>1</td>\n",
       "      <td>A series of escapades demonstrating the adage ...</td>\n",
       "      <td>2</td>\n",
       "    </tr>\n",
       "    <tr>\n",
       "      <th>2</th>\n",
       "      <td>3</td>\n",
       "      <td>1</td>\n",
       "      <td>A series</td>\n",
       "      <td>2</td>\n",
       "    </tr>\n",
       "    <tr>\n",
       "      <th>3</th>\n",
       "      <td>4</td>\n",
       "      <td>1</td>\n",
       "      <td>A</td>\n",
       "      <td>2</td>\n",
       "    </tr>\n",
       "    <tr>\n",
       "      <th>4</th>\n",
       "      <td>5</td>\n",
       "      <td>1</td>\n",
       "      <td>series</td>\n",
       "      <td>2</td>\n",
       "    </tr>\n",
       "  </tbody>\n",
       "</table>\n",
       "</div>"
      ],
      "text/plain": [
       "   PhraseId  SentenceId                                             Phrase  \\\n",
       "0         1           1  A series of escapades demonstrating the adage ...   \n",
       "1         2           1  A series of escapades demonstrating the adage ...   \n",
       "2         3           1                                           A series   \n",
       "3         4           1                                                  A   \n",
       "4         5           1                                             series   \n",
       "\n",
       "   Sentiment  \n",
       "0          1  \n",
       "1          2  \n",
       "2          2  \n",
       "3          2  \n",
       "4          2  "
      ]
     },
     "execution_count": 5,
     "metadata": {},
     "output_type": "execute_result"
    }
   ],
   "source": [
    "train = train_data.copy(deep = True)\n",
    "test = test_data.copy(deep = True)"
   ]
  },
  {
   "cell_type": "code",
   "execution_count": 7,
   "metadata": {},
   "outputs": [
    {
     "name": "stdout",
     "output_type": "stream",
     "text": [
      "count    156060.000000\n",
      "mean         40.217224\n",
      "std          38.154130\n",
      "min           1.000000\n",
      "25%          14.000000\n",
      "50%          26.000000\n",
      "75%          53.000000\n",
      "max         283.000000\n",
      "Name: Phrase_Length, dtype: float64\n",
      "最小长度: 1\n",
      "最大长度: 283\n"
     ]
    }
   ],
   "source": [
    "train['Phrase_Length'] = train['Phrase'].apply(len)\n",
    "\n",
    "# 获取短语长度的统计信息\n",
    "length_stats = train['Phrase_Length'].describe()\n",
    "print(length_stats)\n",
    "\n",
    "# 如果想查看短语长度的范围（最小值和最大值）\n",
    "min_length = train['Phrase_Length'].min()\n",
    "max_length = train['Phrase_Length'].max()\n",
    "\n",
    "print(f\"最小长度: {min_length}\")\n",
    "print(f\"最大长度: {max_length}\")\n"
   ]
  },
  {
   "cell_type": "code",
   "execution_count": 9,
   "metadata": {},
   "outputs": [
    {
     "name": "stdout",
     "output_type": "stream",
     "text": [
      "dict_keys(['input_ids', 'token_type_ids', 'attention_mask'])\n"
     ]
    }
   ],
   "source": [
    "# 加载 BERT 分词器\n",
    "tokenizer = AutoTokenizer.from_pretrained(\"/lustre/user/liclab/lisky/buyf/Class/Introduce2Data/bert_base_uncased\")\n",
    "\n",
    "# 分词并编码\n",
    "encoded_inputs = tokenizer(\n",
    "    train[\"Phrase\"].tolist(),  # 输入文本列表\n",
    "    padding=True,            # 自动填充到相同长度\n",
    "    truncation=True,         # 截断超长序列（BERT 最大长度 512）\n",
    "    max_length=128,          # 最大序列长度（可以调整）\n",
    "    return_tensors=\"pt\"      # 返回 PyTorch 张量\n",
    ")\n",
    "\n",
    "print(encoded_inputs.keys())  # 包括 input_ids, attention_mask\n"
   ]
  },
  {
   "cell_type": "code",
   "execution_count": 10,
   "metadata": {},
   "outputs": [
    {
     "name": "stdout",
     "output_type": "stream",
     "text": [
      "Input IDs: tensor([  101,  1037,  2186,  1997,  9686, 17695, 18673, 14313,  1996, 15262,\n",
      "         3351,  2008,  2054,  2003,  2204,  2005,  1996, 13020,   102,     0,\n",
      "            0,     0,     0,     0,     0,     0,     0,     0,     0,     0,\n",
      "            0,     0,     0,     0,     0,     0,     0,     0,     0,     0,\n",
      "            0,     0,     0,     0,     0,     0,     0,     0,     0,     0,\n",
      "            0,     0,     0,     0,     0,     0,     0,     0,     0,     0,\n",
      "            0,     0,     0,     0,     0,     0,     0,     0,     0,     0,\n",
      "            0,     0,     0,     0,     0,     0,     0,     0,     0,     0])\n",
      "Token Type IDs: tensor([0, 0, 0, 0, 0, 0, 0, 0, 0, 0, 0, 0, 0, 0, 0, 0, 0, 0, 0, 0, 0, 0, 0, 0,\n",
      "        0, 0, 0, 0, 0, 0, 0, 0, 0, 0, 0, 0, 0, 0, 0, 0, 0, 0, 0, 0, 0, 0, 0, 0,\n",
      "        0, 0, 0, 0, 0, 0, 0, 0, 0, 0, 0, 0, 0, 0, 0, 0, 0, 0, 0, 0, 0, 0, 0, 0,\n",
      "        0, 0, 0, 0, 0, 0, 0, 0])\n",
      "Attention Mask: tensor([1, 1, 1, 1, 1, 1, 1, 1, 1, 1, 1, 1, 1, 1, 1, 1, 1, 1, 1, 0, 0, 0, 0, 0,\n",
      "        0, 0, 0, 0, 0, 0, 0, 0, 0, 0, 0, 0, 0, 0, 0, 0, 0, 0, 0, 0, 0, 0, 0, 0,\n",
      "        0, 0, 0, 0, 0, 0, 0, 0, 0, 0, 0, 0, 0, 0, 0, 0, 0, 0, 0, 0, 0, 0, 0, 0,\n",
      "        0, 0, 0, 0, 0, 0, 0, 0])\n"
     ]
    }
   ],
   "source": [
    "# 打印 token_ids, token_type_ids, attention_mask\n",
    "print(\"Input IDs:\", encoded_inputs['input_ids'][1])\n",
    "print(\"Token Type IDs:\", encoded_inputs['token_type_ids'][1])\n",
    "print(\"Attention Mask:\", encoded_inputs['attention_mask'][1])"
   ]
  },
  {
   "cell_type": "code",
   "execution_count": 11,
   "metadata": {},
   "outputs": [
    {
     "name": "stderr",
     "output_type": "stream",
     "text": [
      "Some weights of BertForSequenceClassification were not initialized from the model checkpoint at /lustre/user/liclab/lisky/buyf/Class/Introduce2Data/bert_base_uncased and are newly initialized: ['classifier.bias', 'classifier.weight']\n",
      "You should probably TRAIN this model on a down-stream task to be able to use it for predictions and inference.\n"
     ]
    },
    {
     "name": "stdout",
     "output_type": "stream",
     "text": [
      "BertForSequenceClassification(\n",
      "  (bert): BertModel(\n",
      "    (embeddings): BertEmbeddings(\n",
      "      (word_embeddings): Embedding(30522, 768, padding_idx=0)\n",
      "      (position_embeddings): Embedding(512, 768)\n",
      "      (token_type_embeddings): Embedding(2, 768)\n",
      "      (LayerNorm): LayerNorm((768,), eps=1e-12, elementwise_affine=True)\n",
      "      (dropout): Dropout(p=0.3, inplace=False)\n",
      "    )\n",
      "    (encoder): BertEncoder(\n",
      "      (layer): ModuleList(\n",
      "        (0-11): 12 x BertLayer(\n",
      "          (attention): BertAttention(\n",
      "            (self): BertSdpaSelfAttention(\n",
      "              (query): Linear(in_features=768, out_features=768, bias=True)\n",
      "              (key): Linear(in_features=768, out_features=768, bias=True)\n",
      "              (value): Linear(in_features=768, out_features=768, bias=True)\n",
      "              (dropout): Dropout(p=0.3, inplace=False)\n",
      "            )\n",
      "            (output): BertSelfOutput(\n",
      "              (dense): Linear(in_features=768, out_features=768, bias=True)\n",
      "              (LayerNorm): LayerNorm((768,), eps=1e-12, elementwise_affine=True)\n",
      "              (dropout): Dropout(p=0.3, inplace=False)\n",
      "            )\n",
      "          )\n",
      "          (intermediate): BertIntermediate(\n",
      "            (dense): Linear(in_features=768, out_features=3072, bias=True)\n",
      "            (intermediate_act_fn): GELUActivation()\n",
      "          )\n",
      "          (output): BertOutput(\n",
      "            (dense): Linear(in_features=3072, out_features=768, bias=True)\n",
      "            (LayerNorm): LayerNorm((768,), eps=1e-12, elementwise_affine=True)\n",
      "            (dropout): Dropout(p=0.3, inplace=False)\n",
      "          )\n",
      "        )\n",
      "      )\n",
      "    )\n",
      "    (pooler): BertPooler(\n",
      "      (dense): Linear(in_features=768, out_features=768, bias=True)\n",
      "      (activation): Tanh()\n",
      "    )\n",
      "  )\n",
      "  (dropout): Dropout(p=0.3, inplace=False)\n",
      "  (classifier): Linear(in_features=768, out_features=5, bias=True)\n",
      ")\n"
     ]
    }
   ],
   "source": [
    "\n",
    "# 指定本地模型路径\n",
    "local_model_path = \"/lustre/user/liclab/lisky/buyf/Class/Introduce2Data/bert_base_uncased\"\n",
    "\n",
    "# 加载模型\n",
    "model = AutoModelForSequenceClassification.from_pretrained(\n",
    "    local_model_path,  \n",
    "    num_labels=5       \n",
    ")\n",
    "\n",
    "# 查看模型结构\n",
    "print(model)"
   ]
  },
  {
   "cell_type": "code",
   "execution_count": 12,
   "metadata": {},
   "outputs": [],
   "source": "from transformers import Trainer, TrainingArguments,EarlyStoppingCallback,EvalPrediction"
  },
  {
   "cell_type": "code",
   "execution_count": 13,
   "metadata": {},
   "outputs": [
    {
     "name": "stderr",
     "output_type": "stream",
     "text": [
      "huggingface/tokenizers: The current process just got forked, after parallelism has already been used. Disabling parallelism to avoid deadlocks...\n",
      "To disable this warning, you can either:\n",
      "\t- Avoid using `tokenizers` before the fork if possible\n",
      "\t- Explicitly set the environment variable TOKENIZERS_PARALLELISM=(true | false)\n",
      "huggingface/tokenizers: The current process just got forked, after parallelism has already been used. Disabling parallelism to avoid deadlocks...\n",
      "To disable this warning, you can either:\n",
      "\t- Avoid using `tokenizers` before the fork if possible\n",
      "\t- Explicitly set the environment variable TOKENIZERS_PARALLELISM=(true | false)\n",
      "huggingface/tokenizers: The current process just got forked, after parallelism has already been used. Disabling parallelism to avoid deadlocks...\n",
      "To disable this warning, you can either:\n",
      "\t- Avoid using `tokenizers` before the fork if possible\n",
      "\t- Explicitly set the environment variable TOKENIZERS_PARALLELISM=(true | false)\n"
     ]
    }
   ],
   "source": [
    "# 训练参数\n",
    "batch_size = 64  # 根据你的机器配置调整\n",
    "metric_name = 'f1'  # 假设你选择F1分数作为最佳模型的评估指标\n",
    "\n",
    "args = TrainingArguments(\n",
    "    output_dir=\"./results\",  # 模型保存路径\n",
    "    eval_strategy=\"epoch\",   # 每个 epoch 后评估\n",
    "    save_strategy=\"epoch\",   # 每个 epoch 后保存模型\n",
    "    learning_rate=1e-5,      # 降低学习率\n",
    "    per_device_train_batch_size=batch_size,  # 训练时的批大小\n",
    "    per_device_eval_batch_size=batch_size,   # 评估时的批大小\n",
    "    num_train_epochs= 50,     # 训练的总轮数\n",
    "    weight_decay=0.1,       # 权重衰减（L2 正则化）\n",
    "    load_best_model_at_end=True,  # 加载最优模型\n",
    "    metric_for_best_model=metric_name,  # 选择最佳模型的指标\n",
    "    logging_dir='./logs',   # 日志文件保存路径\n",
    "    logging_steps=10,       # 每 10 步记录一次日志\n",
    "    eval_steps=500,         # 每 500 步进行一次评估\n",
    "    warmup_steps=500,       # 学习率热启动步数\n",
    "    fp16=True,              # 启用混合精度训练\n",
    ")"
   ]
  },
  {
   "cell_type": "code",
   "execution_count": 14,
   "metadata": {},
   "outputs": [],
   "source": [
    "from sklearn.metrics import f1_score, roc_auc_score, accuracy_score\n",
    "\n",
    "def multi_class_metrics(predictions, labels):\n",
    "    softmax = torch.nn.Softmax(dim=-1) \n",
    "    probs = softmax(torch.Tensor(predictions))  # 获取每个类别的概率\n",
    "\n",
    "    # 使用 argmax 将预测值转换为类别标签\n",
    "    y_pred = np.argmax(probs, axis=1)\n",
    "\n",
    "    # one-hot 编码\n",
    "    y_true = labels\n",
    "\n",
    "    # 计算 F1 score\n",
    "    f1_micro_average = f1_score(y_true=y_true, y_pred=y_pred, average='micro')\n",
    "    \n",
    "    # 计算 ROC AUC（需要每个类别的概率）\n",
    "    roc_auc = roc_auc_score(y_true, probs, multi_class='ovr', average='macro')\n",
    "\n",
    "    # 计算准确率\n",
    "    accuracy = accuracy_score(y_true, y_pred)\n",
    "\n",
    "    # 返回所有指标\n",
    "    metrics = {\n",
    "        'f1': f1_micro_average,\n",
    "        'roc_auc': roc_auc,\n",
    "        'accuracy': accuracy\n",
    "    }\n",
    "    return metrics\n",
    "\n",
    "def compute_metrics(p: EvalPrediction):\n",
    "    preds = p.predictions[0] if isinstance(p.predictions, tuple) else p.predictions\n",
    "    result = multi_class_metrics(predictions=preds, labels=p.label_ids)\n",
    "    return result\n",
    "\n"
   ]
  },
  {
   "cell_type": "code",
   "execution_count": 15,
   "metadata": {},
   "outputs": [],
   "source": [
    "labels = train['Sentiment'].tolist()  # 情感标签列表\n",
    "# 将标签转换为张量\n",
    "labels_tensor = torch.tensor(labels, dtype=torch.long)  # 确保类型为 torch.long"
   ]
  },
  {
   "cell_type": "code",
   "execution_count": 16,
   "metadata": {},
   "outputs": [
    {
     "name": "stdout",
     "output_type": "stream",
     "text": [
      "tensor([1, 2, 2,  ..., 3, 2, 2])\n"
     ]
    }
   ],
   "source": [
    "print(labels_tensor)"
   ]
  },
  {
   "cell_type": "code",
   "execution_count": 18,
   "metadata": {},
   "outputs": [
    {
     "name": "stdout",
     "output_type": "stream",
     "text": [
      "{'input_ids': tensor([  101, 18178,  2229,  2100,   102,     0,     0,     0,     0,     0,\n",
      "            0,     0,     0,     0,     0,     0,     0,     0,     0,     0,\n",
      "            0,     0,     0,     0,     0,     0,     0,     0,     0,     0,\n",
      "            0,     0,     0,     0,     0,     0,     0,     0,     0,     0,\n",
      "            0,     0,     0,     0,     0,     0,     0,     0,     0,     0,\n",
      "            0,     0,     0,     0,     0,     0,     0,     0,     0,     0,\n",
      "            0,     0,     0,     0,     0,     0,     0,     0,     0,     0,\n",
      "            0,     0,     0,     0,     0,     0,     0,     0,     0,     0]), 'attention_mask': tensor([1, 1, 1, 1, 1, 0, 0, 0, 0, 0, 0, 0, 0, 0, 0, 0, 0, 0, 0, 0, 0, 0, 0, 0,\n",
      "        0, 0, 0, 0, 0, 0, 0, 0, 0, 0, 0, 0, 0, 0, 0, 0, 0, 0, 0, 0, 0, 0, 0, 0,\n",
      "        0, 0, 0, 0, 0, 0, 0, 0, 0, 0, 0, 0, 0, 0, 0, 0, 0, 0, 0, 0, 0, 0, 0, 0,\n",
      "        0, 0, 0, 0, 0, 0, 0, 0]), 'token_type_ids': tensor([0, 0, 0, 0, 0, 0, 0, 0, 0, 0, 0, 0, 0, 0, 0, 0, 0, 0, 0, 0, 0, 0, 0, 0,\n",
      "        0, 0, 0, 0, 0, 0, 0, 0, 0, 0, 0, 0, 0, 0, 0, 0, 0, 0, 0, 0, 0, 0, 0, 0,\n",
      "        0, 0, 0, 0, 0, 0, 0, 0, 0, 0, 0, 0, 0, 0, 0, 0, 0, 0, 0, 0, 0, 0, 0, 0,\n",
      "        0, 0, 0, 0, 0, 0, 0, 0]), 'labels': tensor(1)}\n",
      "Training dataset size: 124848\n",
      "Validation dataset size: 31212\n"
     ]
    }
   ],
   "source": [
    "from sklearn.model_selection import train_test_split\n",
    "from torch.utils.data import TensorDataset,Dataset,DataLoader\n",
    "\n",
    "# 假设 encoded_inputs_dict 中包含 'input_ids', 'attention_mask', 'token_type_ids' 和 labels_tensor\n",
    "input_ids = encoded_inputs['input_ids']\n",
    "attention_mask = encoded_inputs['attention_mask']\n",
    "token_type_ids = encoded_inputs['token_type_ids']\n",
    "labels = labels_tensor\n",
    "\n",
    "# 使用 train_test_split 将数据集分割为训练集和验证集（80% 训练，20% 验证）\n",
    "train_inputs, val_inputs, train_attention_mask, val_attention_mask, train_token_type_ids, val_token_type_ids, train_labels, val_labels = train_test_split(\n",
    "    input_ids, attention_mask, token_type_ids, labels, test_size=0.2, random_state=42\n",
    ")\n",
    "\n",
    "# 自定义 Dataset 类\n",
    "class CustomDataset(Dataset):\n",
    "    def __init__(self, input_ids, attention_mask, token_type_ids, labels):\n",
    "        self.input_ids = input_ids\n",
    "        self.attention_mask = attention_mask\n",
    "        self.token_type_ids = token_type_ids\n",
    "        self.labels = labels\n",
    "    \n",
    "    def __len__(self):\n",
    "        return len(self.input_ids)\n",
    "    \n",
    "    def __getitem__(self, idx):\n",
    "        # 返回一个字典\n",
    "        return {\n",
    "            'input_ids': self.input_ids[idx],\n",
    "            'attention_mask': self.attention_mask[idx],\n",
    "            'token_type_ids': self.token_type_ids[idx],\n",
    "            'labels': self.labels[idx]\n",
    "        }\n",
    "\n",
    "# 创建训练集和验证集的 Dataset 实例\n",
    "train_dataset = CustomDataset(train_inputs, train_attention_mask, train_token_type_ids, train_labels)\n",
    "val_dataset = CustomDataset(val_inputs, val_attention_mask, val_token_type_ids, val_labels)\n",
    "\n",
    "# 查看数据格式\n",
    "print(train_dataset[0])  # 应该是字典形式的输出\n",
    "\n",
    "# 输出数据集大小\n",
    "print(f\"Training dataset size: {len(train_dataset)}\")\n",
    "print(f\"Validation dataset size: {len(val_dataset)}\")\n"
   ]
  },
  {
   "cell_type": "code",
   "execution_count": 19,
   "metadata": {},
   "outputs": [
    {
     "name": "stderr",
     "output_type": "stream",
     "text": [
      "/tmp/ipykernel_3901173/1360408393.py:5: FutureWarning: `tokenizer` is deprecated and will be removed in version 5.0.0 for `Trainer.__init__`. Use `processing_class` instead.\n",
      "  trainer = Trainer(\n",
      "Detected kernel version 5.4.0, which is below the recommended minimum of 5.5.0; this can cause the process to hang. It is recommended to upgrade the kernel to the minimum version or higher.\n"
     ]
    }
   ],
   "source": [
    "# 配置早停回调\n",
    "early_stopping = EarlyStoppingCallback(early_stopping_patience=2)  # 在 2 次验证损失不下降时停止训练\n",
    "\n",
    "# 设置 Trainer\n",
    "trainer = Trainer(\n",
    "    model=model,\n",
    "    args=args,\n",
    "    train_dataset=train_dataset,  # 训练数据集\n",
    "    eval_dataset=val_dataset,  # 验证数据集\n",
    "    tokenizer=tokenizer,  # 使用的分词器\n",
    "    compute_metrics=compute_metrics,  # 计算评估指标\n",
    "    callbacks=[early_stopping]  # 添加早停回调\n",
    ")\n"
   ]
  },
  {
   "cell_type": "code",
   "execution_count": 20,
   "metadata": {},
   "outputs": [
    {
     "name": "stderr",
     "output_type": "stream",
     "text": [
      "/lustre/user/liclab/lisky/buyf/ENTER/envs/d2l/lib/python3.9/site-packages/torch/nn/parallel/_functions.py:68: UserWarning: Was asked to gather along dimension 0, but all input tensors were scalars; will instead unsqueeze and return a vector.\n",
      "  warnings.warn('Was asked to gather along dimension 0, but all '\n"
     ]
    },
    {
     "data": {
      "text/html": [
       "\n",
       "    <div>\n",
       "      \n",
       "      <progress value='2440' max='24400' style='width:300px; height:20px; vertical-align: middle;'></progress>\n",
       "      [ 2440/24400 24:53 < 3:44:09, 1.63 it/s, Epoch 5/50]\n",
       "    </div>\n",
       "    <table border=\"1\" class=\"dataframe\">\n",
       "  <thead>\n",
       " <tr style=\"text-align: left;\">\n",
       "      <th>Epoch</th>\n",
       "      <th>Training Loss</th>\n",
       "      <th>Validation Loss</th>\n",
       "      <th>F1</th>\n",
       "      <th>Roc Auc</th>\n",
       "      <th>Accuracy</th>\n",
       "    </tr>\n",
       "  </thead>\n",
       "  <tbody>\n",
       "    <tr>\n",
       "      <td>1</td>\n",
       "      <td>0.947900</td>\n",
       "      <td>0.877695</td>\n",
       "      <td>0.639017</td>\n",
       "      <td>0.873499</td>\n",
       "      <td>0.639017</td>\n",
       "    </tr>\n",
       "    <tr>\n",
       "      <td>2</td>\n",
       "      <td>0.884500</td>\n",
       "      <td>0.830779</td>\n",
       "      <td>0.645969</td>\n",
       "      <td>0.892717</td>\n",
       "      <td>0.645969</td>\n",
       "    </tr>\n",
       "    <tr>\n",
       "      <td>3</td>\n",
       "      <td>0.804300</td>\n",
       "      <td>0.804763</td>\n",
       "      <td>0.659650</td>\n",
       "      <td>0.900052</td>\n",
       "      <td>0.659650</td>\n",
       "    </tr>\n",
       "    <tr>\n",
       "      <td>4</td>\n",
       "      <td>0.802800</td>\n",
       "      <td>0.825921</td>\n",
       "      <td>0.647571</td>\n",
       "      <td>0.900903</td>\n",
       "      <td>0.647571</td>\n",
       "    </tr>\n",
       "    <tr>\n",
       "      <td>5</td>\n",
       "      <td>0.747500</td>\n",
       "      <td>0.822857</td>\n",
       "      <td>0.650583</td>\n",
       "      <td>0.903984</td>\n",
       "      <td>0.650583</td>\n",
       "    </tr>\n",
       "  </tbody>\n",
       "</table><p>"
      ],
      "text/plain": [
       "<IPython.core.display.HTML object>"
      ]
     },
     "metadata": {},
     "output_type": "display_data"
    },
    {
     "name": "stderr",
     "output_type": "stream",
     "text": [
      "/lustre/user/liclab/lisky/buyf/ENTER/envs/d2l/lib/python3.9/site-packages/torch/nn/parallel/_functions.py:68: UserWarning: Was asked to gather along dimension 0, but all input tensors were scalars; will instead unsqueeze and return a vector.\n",
      "  warnings.warn('Was asked to gather along dimension 0, but all '\n",
      "/lustre/user/liclab/lisky/buyf/ENTER/envs/d2l/lib/python3.9/site-packages/torch/nn/parallel/_functions.py:68: UserWarning: Was asked to gather along dimension 0, but all input tensors were scalars; will instead unsqueeze and return a vector.\n",
      "  warnings.warn('Was asked to gather along dimension 0, but all '\n",
      "/lustre/user/liclab/lisky/buyf/ENTER/envs/d2l/lib/python3.9/site-packages/torch/nn/parallel/_functions.py:68: UserWarning: Was asked to gather along dimension 0, but all input tensors were scalars; will instead unsqueeze and return a vector.\n",
      "  warnings.warn('Was asked to gather along dimension 0, but all '\n",
      "/lustre/user/liclab/lisky/buyf/ENTER/envs/d2l/lib/python3.9/site-packages/torch/nn/parallel/_functions.py:68: UserWarning: Was asked to gather along dimension 0, but all input tensors were scalars; will instead unsqueeze and return a vector.\n",
      "  warnings.warn('Was asked to gather along dimension 0, but all '\n"
     ]
    },
    {
     "data": {
      "text/plain": [
       "TrainOutput(global_step=2440, training_loss=0.9067691251879832, metrics={'train_runtime': 1502.8815, 'train_samples_per_second': 4153.621, 'train_steps_per_second': 16.235, 'total_flos': 2.56638858205824e+16, 'train_loss': 0.9067691251879832, 'epoch': 5.0})"
      ]
     },
     "execution_count": 20,
     "metadata": {},
     "output_type": "execute_result"
    }
   ],
   "source": [
    "# 训练模型\n",
    "trainer.train()"
   ]
  },
  {
   "cell_type": "code",
   "execution_count": 24,
   "metadata": {},
   "outputs": [],
   "source": [
    "# 训练结束后，最优模型已经被加载到 model 中\n",
    "best_model = trainer.model  # 获取最优模型\n",
    "\n",
    "model_save_path = \"/lustre/user/liclab/lisky/buyf/Class/Introduce2Data/bast_model.pt\"  # 设置保存路径\n",
    "torch.save(best_model, model_save_path)"
   ]
  },
  {
   "cell_type": "code",
   "execution_count": 25,
   "metadata": {},
   "outputs": [
    {
     "name": "stdout",
     "output_type": "stream",
     "text": [
      "dict_keys(['input_ids', 'token_type_ids', 'attention_mask'])\n"
     ]
    }
   ],
   "source": [
    "test[\"Phrase\"] = test[\"Phrase\"].fillna(\"\")  # 用空字符串替代 NaN\n",
    "\n",
    "# 对测试集的每一行进行分词和编码\n",
    "encoded_inputs_test = tokenizer(\n",
    "    test[\"Phrase\"].tolist(),  # 测试集的文本列表\n",
    "    padding=True,                  # 填充为相同长度\n",
    "    truncation=True,               # 截断超长序列\n",
    "    max_length=128,                # 最大序列长度\n",
    "    return_tensors=\"pt\"            # 返回 PyTorch 张量\n",
    ")\n",
    "\n",
    "# 输出看看处理结果\n",
    "print(encoded_inputs_test.keys())  # 应该返回 input_ids 和 attention_mask\n"
   ]
  },
  {
   "cell_type": "code",
   "execution_count": 29,
   "metadata": {},
   "outputs": [],
   "source": [
    "best_model_cpu = trainer.model.to('cpu')\n",
    "\n",
    "# \n",
    "best_model_cpu.eval()\n",
    "# 使用模型进行推理\n",
    "with torch.no_grad():\n",
    "    outputs = best_model_cpu(**encoded_inputs_test)\n",
    "\n",
    "# 获取预测结果\n",
    "predictions = torch.argmax(outputs.logits, dim=-1).cpu().numpy()"
   ]
  },
  {
   "cell_type": "code",
   "execution_count": 32,
   "metadata": {},
   "outputs": [
    {
     "name": "stdout",
     "output_type": "stream",
     "text": [
      "预测结果已保存至 /lustre/user/liclab/lisky/buyf/Class/Introduce2Data/test_results.csv\n"
     ]
    }
   ],
   "source": [
    "# 将预测结果与 PhraseId 合并\n",
    "test_results = pd.DataFrame({\n",
    "    \"PhraseId\": test[\"PhraseId\"],  # 从测试集读取 PhraseId\n",
    "    \"Sentiment\": predictions       # 模型预测的情感标签\n",
    "})\n",
    "\n",
    "# 保存为 CSV 文件\n",
    "output_path = \"/lustre/user/liclab/lisky/buyf/Class/Introduce2Data/test_results.csv\"  # 指定保存路径\n",
    "test_results.to_csv(output_path, index=False)\n",
    "\n",
    "print(f\"预测结果已保存至 {output_path}\")"
   ]
  }
 ],
 "metadata": {
  "kernelspec": {
   "display_name": "Python 3",
   "language": "python",
   "name": "python3"
  },
  "language_info": {
   "codemirror_mode": {
    "name": "ipython",
    "version": 3
   },
   "file_extension": ".py",
   "mimetype": "text/x-python",
   "name": "python",
   "nbconvert_exporter": "python",
   "pygments_lexer": "ipython3",
   "version": "3.9.19"
  }
 },
 "nbformat": 4,
 "nbformat_minor": 2
}
